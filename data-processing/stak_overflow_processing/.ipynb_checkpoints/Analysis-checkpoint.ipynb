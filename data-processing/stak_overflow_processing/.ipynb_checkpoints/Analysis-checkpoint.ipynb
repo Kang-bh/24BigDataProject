{
 "cells": [
  {
   "cell_type": "code",
   "execution_count": 1,
   "id": "0220d682",
   "metadata": {},
   "outputs": [],
   "source": [
    "import pandas as pd"
   ]
  },
  {
   "cell_type": "code",
   "execution_count": 2,
   "id": "d6b21244",
   "metadata": {},
   "outputs": [],
   "source": [
    "data=pd.read_csv(\"/home/airlab1tb/다운로드/빅데/stack-overflow-developer-survey-2023/survey_results_public.csv\")"
   ]
  },
  {
   "cell_type": "code",
   "execution_count": 10,
   "id": "ef039f6b",
   "metadata": {},
   "outputs": [],
   "source": [
    "s=data[\"EdLevel\"]"
   ]
  },
  {
   "cell_type": "code",
   "execution_count": null,
   "id": "bc110f71",
   "metadata": {},
   "outputs": [],
   "source": []
  }
 ],
 "metadata": {
  "kernelspec": {
   "display_name": "Python 3 (ipykernel)",
   "language": "python",
   "name": "python3"
  },
  "language_info": {
   "codemirror_mode": {
    "name": "ipython",
    "version": 3
   },
   "file_extension": ".py",
   "mimetype": "text/x-python",
   "name": "python",
   "nbconvert_exporter": "python",
   "pygments_lexer": "ipython3",
   "version": "3.11.4"
  }
 },
 "nbformat": 4,
 "nbformat_minor": 5
}
